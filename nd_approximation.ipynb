{
 "cells": [
  {
   "cell_type": "code",
   "execution_count": null,
   "metadata": {},
   "outputs": [],
   "source": [
    "import numpy as np\n",
    "import approximations\n",
    "import configparser\n",
    "\n",
    "config = configparser.ConfigParser()\n",
    "config.read('/cluster/home/veoehl/2ptlikelihood/config_1024.ini')\n",
    "paths = config['Paths']\n",
    "batchsize = int(config['Run']['batchsize'])\n",
    "covs = np.load(paths['cov'])\n",
    "cov = covs['matrix']\n",
    "marrs = np.load(paths['M'])\n",
    "mset = marrs['matrix']\n",
    "\n",
    "postprocess\n"
   ]
  }
 ],
 "metadata": {
  "language_info": {
   "name": "python"
  }
 },
 "nbformat": 4,
 "nbformat_minor": 2
}
